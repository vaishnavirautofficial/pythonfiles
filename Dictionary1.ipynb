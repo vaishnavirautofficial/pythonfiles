{
  "nbformat": 4,
  "nbformat_minor": 0,
  "metadata": {
    "colab": {
      "name": "Dictionary1.ipynb",
      "provenance": [],
      "collapsed_sections": [],
      "authorship_tag": "ABX9TyMSohJkh9dO1JKgNxVPZqoa",
      "include_colab_link": true
    },
    "kernelspec": {
      "name": "python3",
      "display_name": "Python 3"
    }
  },
  "cells": [
    {
      "cell_type": "markdown",
      "metadata": {
        "id": "view-in-github",
        "colab_type": "text"
      },
      "source": [
        "<a href=\"https://colab.research.google.com/github/vaishnavirautofficial/pythonfiles/blob/main/Dictionary1.ipynb\" target=\"_parent\"><img src=\"https://colab.research.google.com/assets/colab-badge.svg\" alt=\"Open In Colab\"/></a>"
      ]
    },
    {
      "cell_type": "code",
      "metadata": {
        "colab": {
          "base_uri": "https://localhost:8080/"
        },
        "id": "JWmsKKsAOxSe",
        "outputId": "f8042529-b37e-4958-99b0-45280542db7e"
      },
      "source": [
        "myDict={\"name\":\"vaishnavi\",\"age\":\"23\",\"dob\":\"35\"}\n",
        "print(myDict)\n",
        "myDict=dict({\"name\":\"vaishnavi\",\"age\":\"23\",\"dob\":\"35\"})\n",
        "print(myDict)\n",
        "#how to access elements \n",
        "print(myDict.get(\"name\"))\n",
        "print(myDict.get(\"vaishnavi\"))#output will show none if the key is not present in the dict\n",
        "print(myDict[\"name\"])\n",
        "print(myDict.get(\"salary\",0))#here key salary is not present bt we pprovided the value so it retrn the value\n",
        " \n",
        "#how to add or change dictionary elements\n",
        "myDict[\"name\"]=\"dolly\" #if the element is present in the list itwill update the key value other wise it will add the key\n",
        "print(myDict)\n",
        "myDict[\"color\"]=\"pink\"\n",
        "print(myDict)\n",
        " \n",
        " \n",
        "#to remove an item from the ditionary\n",
        "#pop() will remove the key and return the value only\n",
        "#popitem() will remove and return the item pair i.e key and value\n",
        "#clear() will clear whole dict\n",
        " \n",
        "print(myDict.pop('age'))\n",
        "print(myDict)\n",
        "print(myDict.popitem()) #here popitem takes no argument\n",
        "print(myDict)\n",
        "myDict.clear()#clear() shouls not be writen with print else it will return none\n",
        "print(myDict)\n",
        " \n",
        "#del myDict\n",
        "#print(myDict) after del if we print it will throw error"
      ],
      "execution_count": null,
      "outputs": [
        {
          "output_type": "stream",
          "text": [
            "{'name': 'vaishnavi', 'age': '23', 'dob': '35'}\n",
            "{'name': 'vaishnavi', 'age': '23', 'dob': '35'}\n",
            "vaishnavi\n",
            "None\n",
            "vaishnavi\n",
            "0\n",
            "{'name': 'dolly', 'age': '23', 'dob': '35'}\n",
            "{'name': 'dolly', 'age': '23', 'dob': '35', 'color': 'pink'}\n",
            "23\n",
            "{'name': 'dolly', 'dob': '35', 'color': 'pink'}\n",
            "('color', 'pink')\n",
            "{'name': 'dolly', 'dob': '35'}\n",
            "{}\n"
          ],
          "name": "stdout"
        }
      ]
    },
    {
      "cell_type": "code",
      "metadata": {
        "colab": {
          "base_uri": "https://localhost:8080/"
        },
        "id": "UcueKSmGVCEw",
        "outputId": "d3538398-9ffe-4d8a-db86-d0c01978c626"
      },
      "source": [
        "color={\"1\":\"pink\",\"2\":\"white\",\"3\":\"green\"}\r\n",
        "#copy method\r\n",
        "new=color.copy()\r\n",
        "print(new)\r\n",
        "print(color)\r\n",
        "new2=color\r\n",
        "print(new2)\r\n",
        "new2.clear()\r\n",
        "print(new2)#new2 is copy of color dict bt if we clear new2 it will clear color dict also\r\n",
        "print(color)\r\n"
      ],
      "execution_count": null,
      "outputs": [
        {
          "output_type": "stream",
          "text": [
            "{'1': 'pink', '2': 'white', '3': 'green'}\n",
            "{'1': 'pink', '2': 'white', '3': 'green'}\n",
            "{'1': 'pink', '2': 'white', '3': 'green'}\n",
            "{}\n",
            "{}\n"
          ],
          "name": "stdout"
        }
      ]
    },
    {
      "cell_type": "code",
      "metadata": {
        "colab": {
          "base_uri": "https://localhost:8080/"
        },
        "id": "R4oReS9lchA1",
        "outputId": "2a9e1963-e89a-4fa9-eebb-a58aad4b27eb"
      },
      "source": [
        "keys=(\"d\",\"f\",\"e\",\"i\")\r\n",
        "value=(\"color\",\"sgfj\")\r\n",
        "mydict=dict.fromkeys(keys,value)\r\n",
        "print(mydict)"
      ],
      "execution_count": null,
      "outputs": [
        {
          "output_type": "stream",
          "text": [
            "{'d': ('color', 'sgfj'), 'f': ('color', 'sgfj'), 'e': ('color', 'sgfj'), 'i': ('color', 'sgfj')}\n"
          ],
          "name": "stdout"
        }
      ]
    },
    {
      "cell_type": "code",
      "metadata": {
        "colab": {
          "base_uri": "https://localhost:8080/"
        },
        "id": "YrEy6fftd2W_",
        "outputId": "de383d5b-7d1b-491f-9cfc-783a9f832b41"
      },
      "source": [
        "mydict={\"1\":\"pink\",\"2\":\"white\"}\r\n",
        "y=mydict.items()\r\n",
        "print(y)\r\n",
        "z=list(y)\r\n",
        "print(z[0])\r\n",
        "print(z[0][1])"
      ],
      "execution_count": null,
      "outputs": [
        {
          "output_type": "stream",
          "text": [
            "dict_items([('1', 'pink'), ('2', 'white')])\n",
            "('1', 'pink')\n",
            "pink\n"
          ],
          "name": "stdout"
        }
      ]
    },
    {
      "cell_type": "code",
      "metadata": {
        "colab": {
          "base_uri": "https://localhost:8080/"
        },
        "id": "RrQLXyxLe4qO",
        "outputId": "a9544f6e-fdb3-4bc1-af57-4a2e8e03d76b"
      },
      "source": [
        "\r\n",
        "y=dict.fromkeys((\"1\",\"2\"),\"gj\")\r\n",
        "print(y)"
      ],
      "execution_count": null,
      "outputs": [
        {
          "output_type": "stream",
          "text": [
            "{'1': 'gj', '2': 'gj'}\n"
          ],
          "name": "stdout"
        }
      ]
    },
    {
      "cell_type": "code",
      "metadata": {
        "colab": {
          "base_uri": "https://localhost:8080/"
        },
        "id": "DpFw02Syfec1",
        "outputId": "56e3ac02-e85e-498f-9e48-ab033da78b91"
      },
      "source": [
        "d={\"1\":\"d\",\"2\":\"h\",\"6\":{\"9\":\"f\",\"8\":\"q\"},\"00\":\"w\"}\r\n",
        "print(d)\r\n",
        "y=d.items()\r\n",
        "print(y)\r\n",
        "z=list(y)\r\n",
        "print(z)\r\n",
        "print(z[2][1])"
      ],
      "execution_count": null,
      "outputs": [
        {
          "output_type": "stream",
          "text": [
            "{'1': 'd', '2': 'h', '6': {'9': 'f', '8': 'q'}, '00': 'w'}\n",
            "dict_items([('1', 'd'), ('2', 'h'), ('6', {'9': 'f', '8': 'q'}), ('00', 'w')])\n",
            "[('1', 'd'), ('2', 'h'), ('6', {'9': 'f', '8': 'q'}), ('00', 'w')]\n",
            "{'9': 'f', '8': 'q'}\n"
          ],
          "name": "stdout"
        }
      ]
    },
    {
      "cell_type": "code",
      "metadata": {
        "colab": {
          "base_uri": "https://localhost:8080/"
        },
        "id": "8j5O1k__lQI_",
        "outputId": "60cea6ad-bbe1-4aa9-b8a8-f2f86ee471e7"
      },
      "source": [
        "s = {0:'False', 1:'False'}#here all function returns true if keys in dictionary not values or elements in\r\n",
        "                          # tuple or list is true if any of the key or element is false it will return false \r\n",
        "print(all(s))\r\n",
        "e = {1:'True', 0:'True'}\r\n",
        "print(all(e))\r\n",
        "f = {1:'false', 2:'false'}\r\n",
        "print(all(f))\r\n",
        "g = {}\r\n",
        "print(all(g))\r\n",
        "#0 is consideres as false and \"0\" is considere as non null string rather than zero\r\n",
        "#empty dictionary is true"
      ],
      "execution_count": 9,
      "outputs": [
        {
          "output_type": "stream",
          "text": [
            "False\n",
            "False\n",
            "True\n",
            "True\n"
          ],
          "name": "stdout"
        }
      ]
    },
    {
      "cell_type": "code",
      "metadata": {
        "id": "7DuMreS1txsD"
      },
      "source": [
        ""
      ],
      "execution_count": null,
      "outputs": []
    }
  ]
}