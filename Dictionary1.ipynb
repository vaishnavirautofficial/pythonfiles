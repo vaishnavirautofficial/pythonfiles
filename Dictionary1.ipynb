{
  "nbformat": 4,
  "nbformat_minor": 0,
  "metadata": {
    "colab": {
      "name": "Dictionary1.ipynb",
      "provenance": [],
      "authorship_tag": "ABX9TyMC0mSl+Z23MuFpUGX4uqMh",
      "include_colab_link": true
    },
    "kernelspec": {
      "name": "python3",
      "display_name": "Python 3"
    }
  },
  "cells": [
    {
      "cell_type": "markdown",
      "metadata": {
        "id": "view-in-github",
        "colab_type": "text"
      },
      "source": [
        "<a href=\"https://colab.research.google.com/github/vaishnavirautofficial/pythonfiles/blob/main/Dictionary1.ipynb\" target=\"_parent\"><img src=\"https://colab.research.google.com/assets/colab-badge.svg\" alt=\"Open In Colab\"/></a>"
      ]
    },
    {
      "cell_type": "code",
      "metadata": {
        "colab": {
          "base_uri": "https://localhost:8080/"
        },
        "id": "JWmsKKsAOxSe",
        "outputId": "f8042529-b37e-4958-99b0-45280542db7e"
      },
      "source": [
        "myDict={\"name\":\"vaishnavi\",\"age\":\"23\",\"dob\":\"35\"}\r\n",
        "print(myDict)\r\n",
        "myDict=dict({\"name\":\"vaishnavi\",\"age\":\"23\",\"dob\":\"35\"})\r\n",
        "print(myDict)\r\n",
        "#how to access elements \r\n",
        "print(myDict.get(\"name\"))\r\n",
        "print(myDict.get(\"vaishnavi\"))#output will show none if the key is not present in the dict\r\n",
        "print(myDict[\"name\"])\r\n",
        "print(myDict.get(\"salary\",0))#here key salary is not present bt we pprovided the value so it retrn the value\r\n",
        "\r\n",
        "#how to add or change dictionary elements\r\n",
        "myDict[\"name\"]=\"dolly\" #if the element is present in the list itwill update the key value other wise it will add the key\r\n",
        "print(myDict)\r\n",
        "myDict[\"color\"]=\"pink\"\r\n",
        "print(myDict)\r\n",
        "\r\n",
        "\r\n",
        "#to remove an item from the ditionary\r\n",
        "#pop() will remove the key and return the value only\r\n",
        "#popitem() will remove and return the item pair i.e key and value\r\n",
        "#clear() will clear whole dict\r\n",
        "\r\n",
        "print(myDict.pop('age'))\r\n",
        "print(myDict)\r\n",
        "print(myDict.popitem()) #here popitem takes no argument\r\n",
        "print(myDict)\r\n",
        "myDict.clear()#clear() shouls not be writen with print else it will return none\r\n",
        "print(myDict)\r\n",
        "\r\n",
        "#del myDict\r\n",
        "#print(myDict) after del if we print it will throw error\r\n"
      ],
      "execution_count": 30,
      "outputs": [
        {
          "output_type": "stream",
          "text": [
            "{'name': 'vaishnavi', 'age': '23', 'dob': '35'}\n",
            "{'name': 'vaishnavi', 'age': '23', 'dob': '35'}\n",
            "vaishnavi\n",
            "None\n",
            "vaishnavi\n",
            "0\n",
            "{'name': 'dolly', 'age': '23', 'dob': '35'}\n",
            "{'name': 'dolly', 'age': '23', 'dob': '35', 'color': 'pink'}\n",
            "23\n",
            "{'name': 'dolly', 'dob': '35', 'color': 'pink'}\n",
            "('color', 'pink')\n",
            "{'name': 'dolly', 'dob': '35'}\n",
            "{}\n"
          ],
          "name": "stdout"
        }
      ]
    },
    {
      "cell_type": "code",
      "metadata": {
        "colab": {
          "base_uri": "https://localhost:8080/"
        },
        "id": "UcueKSmGVCEw",
        "outputId": "d3538398-9ffe-4d8a-db86-d0c01978c626"
      },
      "source": [
        "color={\"1\":\"pink\",\"2\":\"white\",\"3\":\"green\"}\r\n",
        "#copy method\r\n",
        "new=color.copy()\r\n",
        "print(new)\r\n",
        "print(color)\r\n",
        "new2=color\r\n",
        "print(new2)\r\n",
        "new2.clear()\r\n",
        "print(new2)#new2 is copy of color dict bt if we clear new2 it will clear color dict also\r\n",
        "print(color)\r\n"
      ],
      "execution_count": 26,
      "outputs": [
        {
          "output_type": "stream",
          "text": [
            "{'1': 'pink', '2': 'white', '3': 'green'}\n",
            "{'1': 'pink', '2': 'white', '3': 'green'}\n",
            "{'1': 'pink', '2': 'white', '3': 'green'}\n",
            "{}\n",
            "{}\n"
          ],
          "name": "stdout"
        }
      ]
    }
  ]
}