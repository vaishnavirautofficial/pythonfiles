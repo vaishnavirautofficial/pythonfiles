{
  "nbformat": 4,
  "nbformat_minor": 0,
  "metadata": {
    "colab": {
      "name": "Untitled3.ipynb",
      "provenance": [],
      "authorship_tag": "ABX9TyN3NCap/cYNQgM/xU0EWySV",
      "include_colab_link": true
    },
    "kernelspec": {
      "name": "python3",
      "display_name": "Python 3"
    }
  },
  "cells": [
    {
      "cell_type": "markdown",
      "metadata": {
        "id": "view-in-github",
        "colab_type": "text"
      },
      "source": [
        "<a href=\"https://colab.research.google.com/github/vaishnavirautofficial/pythonfiles/blob/main/Untitled3.ipynb\" target=\"_parent\"><img src=\"https://colab.research.google.com/assets/colab-badge.svg\" alt=\"Open In Colab\"/></a>"
      ]
    },
    {
      "cell_type": "markdown",
      "metadata": {
        "id": "1MALvcDd48Sm"
      },
      "source": [
        "the above is to check whether the element exists in lisst or not\r\n",
        "i got two problems in this\r\n",
        "1. how to use casefold in this \r\n",
        "2. and about to neglect space in user input\r\n"
      ]
    },
    {
      "cell_type": "code",
      "metadata": {
        "colab": {
          "base_uri": "https://localhost:8080/"
        },
        "id": "JEhsqDo4yRX6",
        "outputId": "c477c870-57a4-4aea-b2fb-f01ce5caa540"
      },
      "source": [
        "list1=[\"sunflower\",\"rose\",\"lily\"]\r\n",
        "item = input(\"enter item to check if it exists or not\")\r\n",
        "if item in list1:\r\n",
        "  print(\"it exists\")\r\n",
        "else:\r\n",
        "  print(\"try another\")"
      ],
      "execution_count": null,
      "outputs": [
        {
          "output_type": "stream",
          "text": [
            "enter item to check if it exists or notrose\n",
            "it exists\n"
          ],
          "name": "stdout"
        }
      ]
    },
    {
      "cell_type": "code",
      "metadata": {
        "colab": {
          "base_uri": "https://localhost:8080/"
        },
        "id": "z9pyxjSc5mRQ",
        "outputId": "7d06d4e0-0576-43c5-84ce-52a9bafb8734"
      },
      "source": [
        "#program to reverse the list items\r\n",
        "\r\n",
        "list1=[\"a\",\"c\",\"d\",\"f\"]\r\n",
        "list1.reverse()\r\n",
        "print(list1)"
      ],
      "execution_count": null,
      "outputs": [
        {
          "output_type": "stream",
          "text": [
            "['f', 'd', 'c', 'a']\n"
          ],
          "name": "stdout"
        }
      ]
    },
    {
      "cell_type": "code",
      "metadata": {
        "colab": {
          "base_uri": "https://localhost:8080/"
        },
        "id": "wVk2-2p264JH",
        "outputId": "06db2dac-d12f-43ff-a5b2-285f89e778ff"
      },
      "source": [
        "def reverse_list():\r\n",
        "  list2=[\"goat\",\"ghds\",\"oops\"]\r\n",
        "  new_list=list2[::-1]\r\n",
        "  return new_list\r\n",
        "\r\n",
        "print(reverse_list())"
      ],
      "execution_count": null,
      "outputs": [
        {
          "output_type": "stream",
          "text": [
            "['oops', 'ghds', 'goat']\n"
          ],
          "name": "stdout"
        }
      ]
    },
    {
      "cell_type": "code",
      "metadata": {
        "colab": {
          "base_uri": "https://localhost:8080/"
        },
        "id": "Op7pCLi68vmb",
        "outputId": "562d9dc8-8bc8-4844-dfa6-0582fc7c4aa3"
      },
      "source": [
        "#program to sum elements in list\r\n",
        "sum=0\r\n",
        "list=[]\r\n",
        "n=int(input(\"enter number of item in list\"))\r\n",
        "for i in range(0,n):\r\n",
        "   a=int(input())\r\n",
        "   list.append(a)\r\n",
        "print(\"list = \",list)\r\n",
        "for i in range(0,len(list)):\r\n",
        "  sum=sum+list[i]\r\n",
        "  \r\n",
        "print(\"sum of items in list is: \",sum)"
      ],
      "execution_count": null,
      "outputs": [
        {
          "output_type": "stream",
          "text": [
            "enter number of item in list3\n",
            "1\n",
            "1\n",
            "1\n",
            "list =  [1, 1, 1]\n",
            "sum of items in list is:  3\n"
          ],
          "name": "stdout"
        }
      ]
    },
    {
      "cell_type": "code",
      "metadata": {
        "colab": {
          "base_uri": "https://localhost:8080/"
        },
        "id": "BvArlyhSDf1j",
        "outputId": "fe1e4cba-863a-4ec3-960f-38d913d1ec78"
      },
      "source": [
        "\r\n",
        "list11=[1,2,4,5]\r\n",
        "print(\"sum of all elements in list is: \",sum(list11))\r\n"
      ],
      "execution_count": null,
      "outputs": [
        {
          "output_type": "stream",
          "text": [
            "sum of all elements in list is:  12\n"
          ],
          "name": "stdout"
        }
      ]
    },
    {
      "cell_type": "code",
      "metadata": {
        "colab": {
          "base_uri": "https://localhost:8080/"
        },
        "id": "irVkZQt9FBGb",
        "outputId": "1e827a82-c162-4cb0-ddb5-64d0c57bd287"
      },
      "source": [
        "list=[2,9,3,4,6]\r\n",
        "list.sort(reverse=True)\r\n",
        "print(list)\r\n",
        "print(max(list))\r\n",
        "if list[0]==list[1]:\r\n",
        "  print(\"second largest element is:\",list[2])\r\n",
        "else:\r\n",
        "  print(\"second largest element is :\",list[1])\r\n",
        "\r\n"
      ],
      "execution_count": null,
      "outputs": [
        {
          "output_type": "stream",
          "text": [
            "[9, 6, 4, 3, 2]\n",
            "9\n",
            "second largest element is : 6\n"
          ],
          "name": "stdout"
        }
      ]
    },
    {
      "cell_type": "code",
      "metadata": {
        "colab": {
          "base_uri": "https://localhost:8080/"
        },
        "id": "U5n7wK8wI2iW",
        "outputId": "bcaede49-b993-4c50-bdf8-d9c26d0dc84d"
      },
      "source": [
        "list=[1,4,3,6,5]\r\n",
        "num=0\r\n",
        "for number in list:\r\n",
        "  if num %2 == 0:\r\n",
        "    print(list[num])"
      ],
      "execution_count": null,
      "outputs": [
        {
          "output_type": "stream",
          "text": [
            "1\n",
            "1\n",
            "1\n",
            "1\n",
            "1\n"
          ],
          "name": "stdout"
        }
      ]
    }
  ]
}