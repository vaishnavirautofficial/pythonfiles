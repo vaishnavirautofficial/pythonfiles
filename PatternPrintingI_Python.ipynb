{
  "nbformat": 4,
  "nbformat_minor": 0,
  "metadata": {
    "colab": {
      "name": "PatternPrintingI_Python.ipynb",
      "provenance": [],
      "authorship_tag": "ABX9TyPAYrKZllFkBbpDVHyh7zPy",
      "include_colab_link": true
    },
    "kernelspec": {
      "name": "python3",
      "display_name": "Python 3"
    }
  },
  "cells": [
    {
      "cell_type": "markdown",
      "metadata": {
        "id": "view-in-github",
        "colab_type": "text"
      },
      "source": [
        "<a href=\"https://colab.research.google.com/github/vaishnavirautofficial/pythonfiles/blob/main/PatternPrintingI_Python.ipynb\" target=\"_parent\"><img src=\"https://colab.research.google.com/assets/colab-badge.svg\" alt=\"Open In Colab\"/></a>"
      ]
    },
    {
      "cell_type": "code",
      "metadata": {
        "colab": {
          "base_uri": "https://localhost:8080/"
        },
        "id": "19s0i71rGMwj",
        "outputId": "734f8cf9-4c95-4470-9c9a-5136c4b049b8"
      },
      "source": [
        "for i in range(6):\r\n",
        "  for j in range(i+1):\r\n",
        "    print(\"*\",end=\"\")\r\n",
        "  print()"
      ],
      "execution_count": 5,
      "outputs": [
        {
          "output_type": "stream",
          "text": [
            "*\n",
            "**\n",
            "***\n",
            "****\n",
            "*****\n",
            "******\n"
          ],
          "name": "stdout"
        }
      ]
    },
    {
      "cell_type": "code",
      "metadata": {
        "colab": {
          "base_uri": "https://localhost:8080/"
        },
        "id": "KDrsVA7RHiR6",
        "outputId": "220229b1-4a38-470f-fc10-648fda35128b"
      },
      "source": [
        "for i in range(6,0,-1):\r\n",
        "  for j in range(i):\r\n",
        "    print(\"*\",end=\"\")\r\n",
        "  print()"
      ],
      "execution_count": 8,
      "outputs": [
        {
          "output_type": "stream",
          "text": [
            "******\n",
            "*****\n",
            "****\n",
            "***\n",
            "**\n",
            "*\n"
          ],
          "name": "stdout"
        }
      ]
    },
    {
      "cell_type": "code",
      "metadata": {
        "colab": {
          "base_uri": "https://localhost:8080/"
        },
        "id": "rIlUb3GFITOD",
        "outputId": "d697fd0a-ad91-48af-b40c-0585917d6ad1"
      },
      "source": [
        "num=int(input(\"enter the number of rows\"))\r\n",
        "for i in range(0,num):\r\n",
        "  for k in range(0,num-i-1):\r\n",
        "    print(end=\" \")\r\n",
        "  for j in range(0,i+1):\r\n",
        "    print(\"*\",end=\" \")\r\n",
        "  print()"
      ],
      "execution_count": 29,
      "outputs": [
        {
          "output_type": "stream",
          "text": [
            "enter the number of rows7\n",
            "      * \n",
            "     * * \n",
            "    * * * \n",
            "   * * * * \n",
            "  * * * * * \n",
            " * * * * * * \n",
            "* * * * * * * \n"
          ],
          "name": "stdout"
        }
      ]
    }
  ]
}