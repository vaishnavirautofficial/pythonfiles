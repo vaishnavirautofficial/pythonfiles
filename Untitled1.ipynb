{
  "nbformat": 4,
  "nbformat_minor": 0,
  "metadata": {
    "colab": {
      "name": "Untitled1.ipynb",
      "provenance": [],
      "authorship_tag": "ABX9TyMlOUCr0SdkltAZndzA/mRz",
      "include_colab_link": true
    },
    "kernelspec": {
      "name": "python3",
      "display_name": "Python 3"
    }
  },
  "cells": [
    {
      "cell_type": "markdown",
      "metadata": {
        "id": "view-in-github",
        "colab_type": "text"
      },
      "source": [
        "<a href=\"https://colab.research.google.com/github/vaishnavirautofficial/pythonfiles/blob/main/Untitled1.ipynb\" target=\"_parent\"><img src=\"https://colab.research.google.com/assets/colab-badge.svg\" alt=\"Open In Colab\"/></a>"
      ]
    },
    {
      "cell_type": "code",
      "metadata": {
        "colab": {
          "base_uri": "https://localhost:8080/"
        },
        "id": "sZk72kkaAhee",
        "outputId": "51e356b5-34ba-430f-aba5-e1c9b5f2bf38"
      },
      "source": [
        "names=[\"john\",\"george\",\"williams\",\"harry\"]\r\n",
        "print(names[0])\r\n",
        "print(names[1])\r\n",
        "print(names[2])\r\n",
        "print(names[3])"
      ],
      "execution_count": 2,
      "outputs": [
        {
          "output_type": "stream",
          "text": [
            "john\n",
            "george\n",
            "williams\n",
            "harry\n"
          ],
          "name": "stdout"
        }
      ]
    },
    {
      "cell_type": "code",
      "metadata": {
        "colab": {
          "base_uri": "https://localhost:8080/"
        },
        "id": "ZU2pol4UBXGO",
        "outputId": "0ab84f1e-67b3-468c-fdab-9de91f7666fb"
      },
      "source": [
        "names=[\"john\",\"george\",\"williams\",\"harry\"]\r\n",
        "for i in range(0,4):\r\n",
        "  print(names[i].capitalize())"
      ],
      "execution_count": 27,
      "outputs": [
        {
          "output_type": "stream",
          "text": [
            "John\n",
            "George\n",
            "Williams\n",
            "Harry\n"
          ],
          "name": "stdout"
        }
      ]
    },
    {
      "cell_type": "code",
      "metadata": {
        "colab": {
          "base_uri": "https://localhost:8080/"
        },
        "id": "6p3MrXLZB-qz",
        "outputId": "812e2d49-091b-4725-c521-2e1ae57aa5d9"
      },
      "source": [
        "names=[\"John\",\"George\",\"Williams\",\"Harry\"]\r\n",
        "for i in range(1,4):\r\n",
        "  print(\"hello\"+\" \"+names[i]+\" \"+ \"Good morning!!!\")"
      ],
      "execution_count": 16,
      "outputs": [
        {
          "output_type": "stream",
          "text": [
            "hello George Good morning!!!\n",
            "hello Williams Good morning!!!\n",
            "hello Harry Good morning!!!\n"
          ],
          "name": "stdout"
        }
      ]
    },
    {
      "cell_type": "code",
      "metadata": {
        "colab": {
          "base_uri": "https://localhost:8080/"
        },
        "id": "_VhfLIa_DVI5",
        "outputId": "14dc7100-6616-4ddd-f198-bf51560862e1"
      },
      "source": [
        "names=[\"John\",\"George\",\"Williams\",\"Harry\"]\r\n",
        "for i in range(0,4):\r\n",
        "  print(\"Hello {} Welcome to Microspectra\".format(names[i].upper()))"
      ],
      "execution_count": 21,
      "outputs": [
        {
          "output_type": "stream",
          "text": [
            "Hello JOHN Welcome to Microspectra\n",
            "Hello GEORGE Welcome to Microspectra\n",
            "Hello WILLIAMS Welcome to Microspectra\n",
            "Hello HARRY Welcome to Microspectra\n"
          ],
          "name": "stdout"
        }
      ]
    },
    {
      "cell_type": "code",
      "metadata": {
        "colab": {
          "base_uri": "https://localhost:8080/"
        },
        "id": "CBFMV0FxXLpm",
        "outputId": "75246160-440d-4351-eedd-c0f8952ee8bc"
      },
      "source": [
        "names=[\"John\",\"George\",\"Williams\",\"Harry\"]\r\n",
        "for i in range(0,4):\r\n",
        "  print(\"Hello {}.... just an invitation for a small dinner party at my home tonight so do come..Will be happy to see you\\n\".format(names[i].upper()))\r\n",
        "\r\n",
        "print(\"just found that harry and williams wont come today due to some reason\\n\")\r\n",
        "names[2]=\"elle\"\r\n",
        "names[3]=\"james\"\r\n",
        "for i in range(0,4):\r\n",
        "  print(\"Hello {}.... just an invitation for a small dinner party at my home tonight so do come..Will be happy to see you\\n\".format(names[i].upper()))\r\n",
        "\r\n",
        "print(\"just found a bigger dinner table so inviting more guests \\n\")\r\n",
        "\r\n",
        "names.append(\"daisy\")\r\n",
        "names.append(\"jasmine\")\r\n",
        "names.append(\"flora\")\r\n",
        "new_list=names\r\n",
        "print(\"newlist= \",new_list)\r\n",
        "print(\"just found that dinner table wont be available on time\")\r\n",
        "  \r\n",
        "popped_names=new_list.pop()\r\n",
        "popped_names=new_list.pop()\r\n",
        "popped_names=new_list.pop()\r\n",
        "popped_names=new_list.pop()\r\n",
        "popped_names=new_list.pop()\r\n",
        "print(new_list)\r\n",
        "print(popped_names)\r\n",
        "\r\n",
        "\r\n",
        "\r\n",
        "\r\n",
        "  "
      ],
      "execution_count": 61,
      "outputs": [
        {
          "output_type": "stream",
          "text": [
            "Hello JOHN.... just an invitation for a small dinner party at my home tonight so do come..Will be happy to see you\n",
            "\n",
            "Hello GEORGE.... just an invitation for a small dinner party at my home tonight so do come..Will be happy to see you\n",
            "\n",
            "Hello WILLIAMS.... just an invitation for a small dinner party at my home tonight so do come..Will be happy to see you\n",
            "\n",
            "Hello HARRY.... just an invitation for a small dinner party at my home tonight so do come..Will be happy to see you\n",
            "\n",
            "just found that harry and williams wont come today due to some reason\n",
            "\n",
            "Hello JOHN.... just an invitation for a small dinner party at my home tonight so do come..Will be happy to see you\n",
            "\n",
            "Hello GEORGE.... just an invitation for a small dinner party at my home tonight so do come..Will be happy to see you\n",
            "\n",
            "Hello ELLE.... just an invitation for a small dinner party at my home tonight so do come..Will be happy to see you\n",
            "\n",
            "Hello JAMES.... just an invitation for a small dinner party at my home tonight so do come..Will be happy to see you\n",
            "\n",
            "just found a bigger dinner table so inviting more guests \n",
            "\n",
            "newlist=  ['John', 'George', 'elle', 'james', 'daisy', 'jasmine', 'flora']\n",
            "just found that dinner table wont be available on time\n",
            "['John', 'George']\n",
            "elle\n"
          ],
          "name": "stdout"
        }
      ]
    }
  ]
}